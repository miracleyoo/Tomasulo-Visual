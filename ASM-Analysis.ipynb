{
 "cells": [
  {
   "cell_type": "code",
   "execution_count": 4,
   "metadata": {
    "ExecuteTime": {
     "end_time": "2019-11-27T20:36:29.920716Z",
     "start_time": "2019-11-27T20:36:29.911398Z"
    }
   },
   "outputs": [],
   "source": [
    "import os, sys\n",
    "from pathlib2 import Path"
   ]
  },
  {
   "cell_type": "code",
   "execution_count": 6,
   "metadata": {
    "ExecuteTime": {
     "end_time": "2019-11-27T20:37:03.312503Z",
     "start_time": "2019-11-27T20:37:03.309622Z"
    }
   },
   "outputs": [],
   "source": [
    "asm_root=Path(\"./asm_code\")"
   ]
  },
  {
   "cell_type": "code",
   "execution_count": 12,
   "metadata": {
    "ExecuteTime": {
     "end_time": "2019-11-27T20:39:36.524417Z",
     "start_time": "2019-11-27T20:39:36.520475Z"
    }
   },
   "outputs": [],
   "source": [
    "asm_paths = [i for i in list(asm_root.iterdir()) if i.is_file() and not asm_root.name.startswith(\".\")]"
   ]
  },
  {
   "cell_type": "code",
   "execution_count": 22,
   "metadata": {
    "ExecuteTime": {
     "end_time": "2019-11-27T20:46:13.926570Z",
     "start_time": "2019-11-27T20:46:13.920473Z"
    }
   },
   "outputs": [],
   "source": [
    "asm_lines = []\n",
    "for path_name in asm_paths:\n",
    "    with open(str(path_name)) as f:\n",
    "        content = f.readlines()\n",
    "        # you may also want to remove whitespace characters like `\\n` at the end of each line\n",
    "        asm_lines.extend([i.strip().split(\";\")[0].strip() for i in content if not i.startswith(\";\") and not i.strip()==\"\"])"
   ]
  },
  {
   "cell_type": "code",
   "execution_count": 67,
   "metadata": {
    "ExecuteTime": {
     "end_time": "2019-11-27T21:38:53.638655Z",
     "start_time": "2019-11-27T21:38:53.628962Z"
    }
   },
   "outputs": [],
   "source": [
    "class ASMParser():\n",
    "    def __init__(self, input_path):\n",
    "        self.data=[]\n",
    "        self.text=[]\n",
    "        self.inst=[]\n",
    "        self.regs=[]\n",
    "        with open(str(path_name)) as f:\n",
    "            content = f.readlines()\n",
    "            self.lines = [i.strip().split(\";\")[0].strip() for i in content \n",
    "                              if not i.startswith(\";\") and not i.strip()==\"\"]\n",
    "        self.parseChunk()\n",
    "        self.parseText()\n",
    "            \n",
    "    def parseChunk(self):\n",
    "        flag = \"\"\n",
    "        for line in self.lines:\n",
    "            if line.startswith(\".data\"):\n",
    "                flag=\"data\"\n",
    "            elif line.startswith(\".text\"):\n",
    "                flag=\"text\"\n",
    "            elif flag==\"data\":\n",
    "                self.data.append(line)\n",
    "            elif flag == \"text\":\n",
    "                self.text.append(line)\n",
    "            else:\n",
    "                pass\n",
    "            \n",
    "    def parseText(self):\n",
    "        for text in self.text:\n",
    "            if \":\" in text:\n",
    "                inst = text.split(\":\")[-1].strip()\n",
    "            else:\n",
    "                inst = text.strip()\n",
    "            split_res = inst.split()\n",
    "            if len(split_res)>0:\n",
    "                self.inst.append(split_res[0].upper().replace(\".\",\"\"))\n",
    "                if len(split_res)>1:\n",
    "                    self.regs.append(split_res[1].upper())"
   ]
  },
  {
   "cell_type": "code",
   "execution_count": 68,
   "metadata": {
    "ExecuteTime": {
     "end_time": "2019-11-27T21:38:54.179078Z",
     "start_time": "2019-11-27T21:38:54.172338Z"
    }
   },
   "outputs": [],
   "source": [
    "inst=[]\n",
    "regs=[]\n",
    "for path_name in asm_paths:\n",
    "    parser=ASMParser(str(path_name))\n",
    "    inst.extend(parser.inst)\n",
    "    regs.extend(parser.regs)"
   ]
  },
  {
   "cell_type": "code",
   "execution_count": 72,
   "metadata": {
    "ExecuteTime": {
     "end_time": "2019-11-27T21:39:33.135252Z",
     "start_time": "2019-11-27T21:39:33.130894Z"
    }
   },
   "outputs": [
    {
     "data": {
      "text/plain": [
       "{'ADDD',\n",
       " 'AND',\n",
       " 'ANDI',\n",
       " 'BEQZ',\n",
       " 'BNEZ',\n",
       " 'CVTDL',\n",
       " 'DADD',\n",
       " 'DADDI',\n",
       " 'DADDU',\n",
       " 'DMULU',\n",
       " 'DSLL',\n",
       " 'DSLLV',\n",
       " 'DSRL',\n",
       " 'DSUB',\n",
       " 'HALT',\n",
       " 'J',\n",
       " 'JAL',\n",
       " 'JR',\n",
       " 'LBU',\n",
       " 'LD',\n",
       " 'LWU',\n",
       " 'MTC1',\n",
       " 'MULD',\n",
       " 'NOP',\n",
       " 'OR',\n",
       " 'SB',\n",
       " 'SD',\n",
       " 'SLT',\n",
       " 'SLTI',\n",
       " 'SLTU',\n",
       " 'SW'}"
      ]
     },
     "execution_count": 72,
     "metadata": {},
     "output_type": "execute_result"
    }
   ],
   "source": [
    "set(inst)"
   ]
  },
  {
   "cell_type": "markdown",
   "metadata": {
    "ExecuteTime": {
     "end_time": "2019-11-27T21:38:45.705924Z",
     "start_time": "2019-11-27T21:38:45.701806Z"
    }
   },
   "source": [
    "### ADD\n",
    "[\"ADD\",\"DADD\",\"DADDU\",\"ADDD\",\"ADDDS\",\"SUB\",\"SUBS\",\"SUBD\",\"DSUB\",\"DSUBU\",\"SUBPS\",\"SLT\",\"SLTU\",\"AND\",\"OR\",\"XOR\"]\n",
    "\n",
    "### INT\n",
    "[\"DADDI\",\"DADDIU\",\"SLTI\",\"ANDI\",\"ORI\",\"XORI\",\"DSLL\",\"DSRL\",\"DSRA\",\"DSLLV\",\"DSRLV\",\"DSRAV\"]\n",
    "\n",
    "### MULT\n",
    "[\"DMUL\",\"DMULU\",\"MULS\",\"MULD\",\"MULPS\"]\n",
    "\n",
    "### DIV\n",
    "[\"DDIV\",\"DDIVU\",\"DIVS\",\"DIVD\",\"DIVPS\"]\n",
    "\n",
    "### SAVE\n",
    "[\"SB\",\"SH\",\"SW\",\"SD\",\"SS\"]\n",
    "\n",
    "### LOAD\n",
    "[\"LB\",\"LH\",\"LW\",\"LD\",\"LS\",\"LBU\",\"LHU\",\"LWU\"]\n",
    "\n",
    "### BRANCH\n",
    "[\"BEQZ\", \"BENZ\", \"BEQ\", \"BNE\", \"J\", \"JR\", \"JAL\", \"JALR\"]\n",
    "\n",
    "### SPECIAL\n",
    "NOP: Stall\n",
    "HALT: End\n",
    "\n",
    "### UNKNOWN\n",
    "MTC1\n",
    "CVTDL"
   ]
  },
  {
   "cell_type": "code",
   "execution_count": null,
   "metadata": {},
   "outputs": [],
   "source": []
  }
 ],
 "metadata": {
  "hide_input": false,
  "kernelspec": {
   "display_name": "Python 3",
   "language": "python",
   "name": "python3"
  },
  "language_info": {
   "codemirror_mode": {
    "name": "ipython",
    "version": 3
   },
   "file_extension": ".py",
   "mimetype": "text/x-python",
   "name": "python",
   "nbconvert_exporter": "python",
   "pygments_lexer": "ipython3",
   "version": "3.7.4"
  },
  "toc": {
   "base_numbering": 1,
   "nav_menu": {},
   "number_sections": true,
   "sideBar": true,
   "skip_h1_title": false,
   "title_cell": "Table of Contents",
   "title_sidebar": "Contents",
   "toc_cell": false,
   "toc_position": {},
   "toc_section_display": true,
   "toc_window_display": false
  },
  "varInspector": {
   "cols": {
    "lenName": 16,
    "lenType": 16,
    "lenVar": 40
   },
   "kernels_config": {
    "python": {
     "delete_cmd_postfix": "",
     "delete_cmd_prefix": "del ",
     "library": "var_list.py",
     "varRefreshCmd": "print(var_dic_list())"
    },
    "r": {
     "delete_cmd_postfix": ") ",
     "delete_cmd_prefix": "rm(",
     "library": "var_list.r",
     "varRefreshCmd": "cat(var_dic_list()) "
    }
   },
   "types_to_exclude": [
    "module",
    "function",
    "builtin_function_or_method",
    "instance",
    "_Feature"
   ],
   "window_display": false
  }
 },
 "nbformat": 4,
 "nbformat_minor": 2
}
